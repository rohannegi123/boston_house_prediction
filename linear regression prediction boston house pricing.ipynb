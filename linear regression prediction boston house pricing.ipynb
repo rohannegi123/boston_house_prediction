{
 "cells": [
  {
   "cell_type": "code",
   "execution_count": 1,
   "id": "6a8beacf",
   "metadata": {},
   "outputs": [],
   "source": [
    "import sklearn\n",
    "import matplotlib.pyplot as plt\n",
    "import pandas as pd\n",
    "from sklearn.datasets import load_boston\n",
    "from pandas_profiling import ProfileReport\n",
    "from sklearn.datasets import load_boston\n",
    "from sklearn.linear_model import LinearRegression\n",
    "from sklearn.linear_model import LassoCV , Lasso ,Ridge , RidgeCV , ElasticNet ,ElasticNetCV\n",
    "from sklearn.preprocessing import StandardScaler\n",
    "from sklearn.model_selection import train_test_split \n",
    "import seaborn as sns\n",
    "import numpy as np\n",
    "from sklearn.ensemble import RandomForestRegressor\n",
    "from xgboost import XGBRegressor\n",
    "import pickle"
   ]
  },
  {
   "cell_type": "code",
   "execution_count": 2,
   "id": "1c227bd1",
   "metadata": {},
   "outputs": [],
   "source": [
    "boston = load_boston()"
   ]
  },
  {
   "cell_type": "code",
   "execution_count": 3,
   "id": "88cd441f",
   "metadata": {},
   "outputs": [],
   "source": [
    "df = pd.DataFrame(boston.data , columns=boston.feature_names)"
   ]
  },
  {
   "cell_type": "code",
   "execution_count": 4,
   "id": "4370600d",
   "metadata": {},
   "outputs": [],
   "source": [
    "df['price'] = boston.target"
   ]
  },
  {
   "cell_type": "code",
   "execution_count": 5,
   "id": "c3907249",
   "metadata": {
    "scrolled": true
   },
   "outputs": [
    {
     "data": {
      "text/html": [
       "<div>\n",
       "<style scoped>\n",
       "    .dataframe tbody tr th:only-of-type {\n",
       "        vertical-align: middle;\n",
       "    }\n",
       "\n",
       "    .dataframe tbody tr th {\n",
       "        vertical-align: top;\n",
       "    }\n",
       "\n",
       "    .dataframe thead th {\n",
       "        text-align: right;\n",
       "    }\n",
       "</style>\n",
       "<table border=\"1\" class=\"dataframe\">\n",
       "  <thead>\n",
       "    <tr style=\"text-align: right;\">\n",
       "      <th></th>\n",
       "      <th>CRIM</th>\n",
       "      <th>ZN</th>\n",
       "      <th>INDUS</th>\n",
       "      <th>CHAS</th>\n",
       "      <th>NOX</th>\n",
       "      <th>RM</th>\n",
       "      <th>AGE</th>\n",
       "      <th>DIS</th>\n",
       "      <th>RAD</th>\n",
       "      <th>TAX</th>\n",
       "      <th>PTRATIO</th>\n",
       "      <th>B</th>\n",
       "      <th>LSTAT</th>\n",
       "      <th>price</th>\n",
       "    </tr>\n",
       "  </thead>\n",
       "  <tbody>\n",
       "    <tr>\n",
       "      <th>0</th>\n",
       "      <td>0.00632</td>\n",
       "      <td>18.0</td>\n",
       "      <td>2.31</td>\n",
       "      <td>0.0</td>\n",
       "      <td>0.538</td>\n",
       "      <td>6.575</td>\n",
       "      <td>65.2</td>\n",
       "      <td>4.0900</td>\n",
       "      <td>1.0</td>\n",
       "      <td>296.0</td>\n",
       "      <td>15.3</td>\n",
       "      <td>396.90</td>\n",
       "      <td>4.98</td>\n",
       "      <td>24.0</td>\n",
       "    </tr>\n",
       "    <tr>\n",
       "      <th>1</th>\n",
       "      <td>0.02731</td>\n",
       "      <td>0.0</td>\n",
       "      <td>7.07</td>\n",
       "      <td>0.0</td>\n",
       "      <td>0.469</td>\n",
       "      <td>6.421</td>\n",
       "      <td>78.9</td>\n",
       "      <td>4.9671</td>\n",
       "      <td>2.0</td>\n",
       "      <td>242.0</td>\n",
       "      <td>17.8</td>\n",
       "      <td>396.90</td>\n",
       "      <td>9.14</td>\n",
       "      <td>21.6</td>\n",
       "    </tr>\n",
       "    <tr>\n",
       "      <th>2</th>\n",
       "      <td>0.02729</td>\n",
       "      <td>0.0</td>\n",
       "      <td>7.07</td>\n",
       "      <td>0.0</td>\n",
       "      <td>0.469</td>\n",
       "      <td>7.185</td>\n",
       "      <td>61.1</td>\n",
       "      <td>4.9671</td>\n",
       "      <td>2.0</td>\n",
       "      <td>242.0</td>\n",
       "      <td>17.8</td>\n",
       "      <td>392.83</td>\n",
       "      <td>4.03</td>\n",
       "      <td>34.7</td>\n",
       "    </tr>\n",
       "    <tr>\n",
       "      <th>3</th>\n",
       "      <td>0.03237</td>\n",
       "      <td>0.0</td>\n",
       "      <td>2.18</td>\n",
       "      <td>0.0</td>\n",
       "      <td>0.458</td>\n",
       "      <td>6.998</td>\n",
       "      <td>45.8</td>\n",
       "      <td>6.0622</td>\n",
       "      <td>3.0</td>\n",
       "      <td>222.0</td>\n",
       "      <td>18.7</td>\n",
       "      <td>394.63</td>\n",
       "      <td>2.94</td>\n",
       "      <td>33.4</td>\n",
       "    </tr>\n",
       "    <tr>\n",
       "      <th>4</th>\n",
       "      <td>0.06905</td>\n",
       "      <td>0.0</td>\n",
       "      <td>2.18</td>\n",
       "      <td>0.0</td>\n",
       "      <td>0.458</td>\n",
       "      <td>7.147</td>\n",
       "      <td>54.2</td>\n",
       "      <td>6.0622</td>\n",
       "      <td>3.0</td>\n",
       "      <td>222.0</td>\n",
       "      <td>18.7</td>\n",
       "      <td>396.90</td>\n",
       "      <td>5.33</td>\n",
       "      <td>36.2</td>\n",
       "    </tr>\n",
       "  </tbody>\n",
       "</table>\n",
       "</div>"
      ],
      "text/plain": [
       "      CRIM    ZN  INDUS  CHAS    NOX     RM   AGE     DIS  RAD    TAX  \\\n",
       "0  0.00632  18.0   2.31   0.0  0.538  6.575  65.2  4.0900  1.0  296.0   \n",
       "1  0.02731   0.0   7.07   0.0  0.469  6.421  78.9  4.9671  2.0  242.0   \n",
       "2  0.02729   0.0   7.07   0.0  0.469  7.185  61.1  4.9671  2.0  242.0   \n",
       "3  0.03237   0.0   2.18   0.0  0.458  6.998  45.8  6.0622  3.0  222.0   \n",
       "4  0.06905   0.0   2.18   0.0  0.458  7.147  54.2  6.0622  3.0  222.0   \n",
       "\n",
       "   PTRATIO       B  LSTAT  price  \n",
       "0     15.3  396.90   4.98   24.0  \n",
       "1     17.8  396.90   9.14   21.6  \n",
       "2     17.8  392.83   4.03   34.7  \n",
       "3     18.7  394.63   2.94   33.4  \n",
       "4     18.7  396.90   5.33   36.2  "
      ]
     },
     "execution_count": 5,
     "metadata": {},
     "output_type": "execute_result"
    }
   ],
   "source": [
    "df.head()\n"
   ]
  },
  {
   "cell_type": "markdown",
   "id": "3271f7d8",
   "metadata": {},
   "source": [
    "Lets check the dataset have any missing or na values. What are the relations between feature.etc\n",
    "with pandas profiling"
   ]
  },
  {
   "cell_type": "code",
   "execution_count": 6,
   "id": "f217b8c7",
   "metadata": {},
   "outputs": [
    {
     "data": {
      "application/vnd.jupyter.widget-view+json": {
       "model_id": "e5585cdc24f943539d865e765c9a53d1",
       "version_major": 2,
       "version_minor": 0
      },
      "text/plain": [
       "Summarize dataset:   0%|          | 0/27 [00:00<?, ?it/s]"
      ]
     },
     "metadata": {},
     "output_type": "display_data"
    },
    {
     "data": {
      "application/vnd.jupyter.widget-view+json": {
       "model_id": "7ffb3729ba704ade802fe6723edef247",
       "version_major": 2,
       "version_minor": 0
      },
      "text/plain": [
       "Generate report structure:   0%|          | 0/1 [00:00<?, ?it/s]"
      ]
     },
     "metadata": {},
     "output_type": "display_data"
    },
    {
     "data": {
      "application/vnd.jupyter.widget-view+json": {
       "model_id": "",
       "version_major": 2,
       "version_minor": 0
      },
      "text/plain": [
       "Render widgets:   0%|          | 0/1 [00:00<?, ?it/s]"
      ]
     },
     "metadata": {},
     "output_type": "display_data"
    },
    {
     "data": {
      "application/vnd.jupyter.widget-view+json": {
       "model_id": "f161c105b9ec4ab5be533dad59c016c3",
       "version_major": 2,
       "version_minor": 0
      },
      "text/plain": [
       "VBox(children=(Tab(children=(Tab(children=(GridBox(children=(VBox(children=(GridspecLayout(children=(HTML(valu…"
      ]
     },
     "metadata": {},
     "output_type": "display_data"
    }
   ],
   "source": [
    "a = ProfileReport(df)\n",
    "a.to_widgets()"
   ]
  },
  {
   "cell_type": "markdown",
   "id": "3afbc984",
   "metadata": {},
   "source": [
    " creating a linear regression model"
   ]
  },
  {
   "cell_type": "code",
   "execution_count": 8,
   "id": "c246d24f",
   "metadata": {},
   "outputs": [],
   "source": [
    "LR = LinearRegression()"
   ]
  },
  {
   "cell_type": "code",
   "execution_count": 9,
   "id": "6435e553",
   "metadata": {},
   "outputs": [],
   "source": [
    "y = df['price']\n",
    "x= df.drop(columns=['price' ])"
   ]
  },
  {
   "cell_type": "code",
   "execution_count": 10,
   "id": "435b488f",
   "metadata": {},
   "outputs": [
    {
     "data": {
      "text/plain": [
       "LinearRegression()"
      ]
     },
     "execution_count": 10,
     "metadata": {},
     "output_type": "execute_result"
    }
   ],
   "source": [
    "LR.fit(x,y)"
   ]
  },
  {
   "cell_type": "code",
   "execution_count": 11,
   "id": "bcdbbc5b",
   "metadata": {},
   "outputs": [
    {
     "data": {
      "text/plain": [
       "0.7406426641094095"
      ]
     },
     "execution_count": 11,
     "metadata": {},
     "output_type": "execute_result"
    }
   ],
   "source": [
    "LR.score(x,y)"
   ]
  },
  {
   "cell_type": "markdown",
   "id": "71ed3946",
   "metadata": {},
   "source": [
    "calculating r^2"
   ]
  },
  {
   "cell_type": "code",
   "execution_count": 12,
   "id": "9b73e276",
   "metadata": {},
   "outputs": [
    {
     "data": {
      "text/plain": [
       "0.733789726372463"
      ]
     },
     "execution_count": 12,
     "metadata": {},
     "output_type": "execute_result"
    }
   ],
   "source": [
    "def adjr2(r):\n",
    "    le = r.score(x,y)\n",
    "    adjr = 1 - ((1-le)*(506-1))/(506-13-1)\n",
    "    return(adjr)\n",
    "adjr2(LR)"
   ]
  },
  {
   "cell_type": "code",
   "execution_count": null,
   "id": "e26b7766",
   "metadata": {},
   "outputs": [],
   "source": [
    "LR.intercept_"
   ]
  },
  {
   "cell_type": "code",
   "execution_count": 146,
   "id": "ab5bce62",
   "metadata": {},
   "outputs": [
    {
     "data": {
      "text/plain": [
       "array([-1.08011358e-01,  4.64204584e-02,  2.05586264e-02,  2.68673382e+00,\n",
       "       -1.77666112e+01,  3.80986521e+00,  6.92224640e-04, -1.47556685e+00,\n",
       "        3.06049479e-01, -1.23345939e-02, -9.52747232e-01,  9.31168327e-03,\n",
       "       -5.24758378e-01])"
      ]
     },
     "execution_count": 146,
     "metadata": {},
     "output_type": "execute_result"
    }
   ],
   "source": [
    "LR.coef_"
   ]
  },
  {
   "cell_type": "code",
   "execution_count": 153,
   "id": "48da7284",
   "metadata": {},
   "outputs": [
    {
     "data": {
      "text/plain": [
       "0.739605684665497"
      ]
     },
     "execution_count": 153,
     "metadata": {},
     "output_type": "execute_result"
    }
   ],
   "source": [
    "LR.score(x,y)"
   ]
  },
  {
   "cell_type": "code",
   "execution_count": 14,
   "id": "f688032a",
   "metadata": {},
   "outputs": [],
   "source": [
    "x_train , x_test,y_train,y_test=train_test_split(x,y , test_size= 0.10 , random_state=100)"
   ]
  },
  {
   "cell_type": "code",
   "execution_count": 155,
   "id": "88b18355",
   "metadata": {},
   "outputs": [
    {
     "data": {
      "text/plain": [
       "LinearRegression()"
      ]
     },
     "execution_count": 155,
     "metadata": {},
     "output_type": "execute_result"
    }
   ],
   "source": [
    "LR.fit(x_train,y_train)"
   ]
  },
  {
   "cell_type": "code",
   "execution_count": 156,
   "id": "aed3eb21",
   "metadata": {},
   "outputs": [
    {
     "data": {
      "text/plain": [
       "0.8360934882713211"
      ]
     },
     "execution_count": 156,
     "metadata": {},
     "output_type": "execute_result"
    }
   ],
   "source": [
    "LR.score(x_test,y_test)"
   ]
  },
  {
   "cell_type": "markdown",
   "id": "c0902a16",
   "metadata": {},
   "source": [
    "The accuracy of the data has been increased after splitting it."
   ]
  },
  {
   "cell_type": "code",
   "execution_count": 157,
   "id": "340bce48",
   "metadata": {},
   "outputs": [
    {
     "data": {
      "text/plain": [
       "array([25.10459827])"
      ]
     },
     "execution_count": 157,
     "metadata": {},
     "output_type": "execute_result"
    }
   ],
   "source": [
    "LR.predict([[0.02731,0.0,7.07,0.0,0.469,6.421,78.9,4.9671,2.0,242.0,17.8,396.90,9.14]])"
   ]
  },
  {
   "cell_type": "markdown",
   "id": "a149a749",
   "metadata": {},
   "source": [
    "Lets build a lasso model"
   ]
  },
  {
   "cell_type": "code",
   "execution_count": 158,
   "id": "e09a9665",
   "metadata": {},
   "outputs": [
    {
     "data": {
      "text/plain": [
       "LassoCV(cv=50, normalize=True)"
      ]
     },
     "execution_count": 158,
     "metadata": {},
     "output_type": "execute_result"
    }
   ],
   "source": [
    "lassocv = LassoCV(alphas= None , cv = 50,max_iter= 1000,normalize= True)\n",
    "lassocv.fit(x_train,y_train)"
   ]
  },
  {
   "cell_type": "code",
   "execution_count": 159,
   "id": "b0b5d2ba",
   "metadata": {},
   "outputs": [
    {
     "data": {
      "text/plain": [
       "0.0010519546472777023"
      ]
     },
     "execution_count": 159,
     "metadata": {},
     "output_type": "execute_result"
    }
   ],
   "source": [
    "lassocv.alpha_"
   ]
  },
  {
   "cell_type": "code",
   "execution_count": 160,
   "id": "5c8029d2",
   "metadata": {},
   "outputs": [
    {
     "data": {
      "text/plain": [
       "Lasso(alpha=0.0010519546472777023)"
      ]
     },
     "execution_count": 160,
     "metadata": {},
     "output_type": "execute_result"
    }
   ],
   "source": [
    "lsm = Lasso(alpha=lassocv.alpha_)\n",
    "lsm.fit(x_train,y_train)\n"
   ]
  },
  {
   "cell_type": "code",
   "execution_count": 161,
   "id": "9e5c8191",
   "metadata": {},
   "outputs": [
    {
     "data": {
      "text/plain": [
       "0.8358957129548839"
      ]
     },
     "execution_count": 161,
     "metadata": {},
     "output_type": "execute_result"
    }
   ],
   "source": [
    "lsm.score(x_test,y_test)"
   ]
  },
  {
   "cell_type": "code",
   "execution_count": 162,
   "id": "166c272e",
   "metadata": {},
   "outputs": [
    {
     "data": {
      "text/plain": [
       "array([25.09566583])"
      ]
     },
     "execution_count": 162,
     "metadata": {},
     "output_type": "execute_result"
    }
   ],
   "source": [
    "lsm.predict([[0.02731,0.0,7.07,0.0,0.469,6.421,78.9,4.9671,2.0,242.0,17.8,396.90,9.14]])"
   ]
  },
  {
   "cell_type": "markdown",
   "id": "b2bc432a",
   "metadata": {},
   "source": [
    "building Ridge model"
   ]
  },
  {
   "cell_type": "code",
   "execution_count": 163,
   "id": "a25ae1a9",
   "metadata": {},
   "outputs": [
    {
     "data": {
      "text/plain": [
       "RidgeCV(alphas=array([ 0.1,  1. , 10. ]), cv=10, normalize=True)"
      ]
     },
     "execution_count": 163,
     "metadata": {},
     "output_type": "execute_result"
    }
   ],
   "source": [
    "Rd = RidgeCV(cv = 10,normalize= True)\n",
    "Rd.fit(x_train,y_train)"
   ]
  },
  {
   "cell_type": "code",
   "execution_count": 164,
   "id": "812117c0",
   "metadata": {},
   "outputs": [
    {
     "data": {
      "text/plain": [
       "0.1"
      ]
     },
     "execution_count": 164,
     "metadata": {},
     "output_type": "execute_result"
    }
   ],
   "source": [
    "Rd.alpha_"
   ]
  },
  {
   "cell_type": "code",
   "execution_count": 165,
   "id": "cccb6a61",
   "metadata": {},
   "outputs": [],
   "source": [
    "ridge  = Ridge(alpha= Rd.alpha_)"
   ]
  },
  {
   "cell_type": "code",
   "execution_count": 166,
   "id": "aa746854",
   "metadata": {},
   "outputs": [
    {
     "data": {
      "text/plain": [
       "Ridge(alpha=0.1)"
      ]
     },
     "execution_count": 166,
     "metadata": {},
     "output_type": "execute_result"
    }
   ],
   "source": [
    "ridge.fit(x_train,y_train)"
   ]
  },
  {
   "cell_type": "code",
   "execution_count": 167,
   "id": "feb08e5a",
   "metadata": {},
   "outputs": [
    {
     "data": {
      "text/plain": [
       "0.8357025640218911"
      ]
     },
     "execution_count": 167,
     "metadata": {},
     "output_type": "execute_result"
    }
   ],
   "source": [
    "ridge.score(x_test,y_test)"
   ]
  },
  {
   "cell_type": "code",
   "execution_count": 168,
   "id": "49b0b8df",
   "metadata": {},
   "outputs": [
    {
     "data": {
      "text/plain": [
       "array([25.0679438])"
      ]
     },
     "execution_count": 168,
     "metadata": {},
     "output_type": "execute_result"
    }
   ],
   "source": [
    "ridge.predict([[0.02731,0.0,7.07,0.0,0.469,6.421,78.9,4.9671,2.0,242.0,17.8,396.90,9.14]])"
   ]
  },
  {
   "cell_type": "markdown",
   "id": "4ff5b591",
   "metadata": {},
   "source": [
    "Building XGB model"
   ]
  },
  {
   "cell_type": "code",
   "execution_count": 169,
   "id": "8602e79f",
   "metadata": {},
   "outputs": [],
   "source": [
    "xb = XGBRegressor()"
   ]
  },
  {
   "cell_type": "code",
   "execution_count": 170,
   "id": "7f13fe3e",
   "metadata": {},
   "outputs": [
    {
     "data": {
      "text/plain": [
       "XGBRegressor(base_score=0.5, booster='gbtree', colsample_bylevel=1,\n",
       "             colsample_bynode=1, colsample_bytree=1, gamma=0, gpu_id=-1,\n",
       "             importance_type='gain', interaction_constraints='',\n",
       "             learning_rate=0.300000012, max_delta_step=0, max_depth=6,\n",
       "             min_child_weight=1, missing=nan, monotone_constraints='()',\n",
       "             n_estimators=100, n_jobs=12, num_parallel_tree=1, random_state=0,\n",
       "             reg_alpha=0, reg_lambda=1, scale_pos_weight=1, subsample=1,\n",
       "             tree_method='exact', validate_parameters=1, verbosity=None)"
      ]
     },
     "execution_count": 170,
     "metadata": {},
     "output_type": "execute_result"
    }
   ],
   "source": [
    "xb.fit(x_train,y_train)"
   ]
  },
  {
   "cell_type": "code",
   "execution_count": 171,
   "id": "0165206a",
   "metadata": {},
   "outputs": [
    {
     "data": {
      "text/plain": [
       "0.8095806094512317"
      ]
     },
     "execution_count": 171,
     "metadata": {},
     "output_type": "execute_result"
    }
   ],
   "source": [
    "xb.score(x_test,y_test)"
   ]
  },
  {
   "cell_type": "markdown",
   "id": "2b9d4b44",
   "metadata": {},
   "source": [
    "Building randomforest model"
   ]
  },
  {
   "cell_type": "code",
   "execution_count": 15,
   "id": "b8de4764",
   "metadata": {},
   "outputs": [
    {
     "data": {
      "text/plain": [
       "RandomForestRegressor()"
      ]
     },
     "execution_count": 15,
     "metadata": {},
     "output_type": "execute_result"
    }
   ],
   "source": [
    "rd = RandomForestRegressor()\n",
    "rd.fit(x_train,y_train)"
   ]
  },
  {
   "cell_type": "code",
   "execution_count": 16,
   "id": "dca81179",
   "metadata": {},
   "outputs": [
    {
     "data": {
      "text/plain": [
       "0.8350514985167617"
      ]
     },
     "execution_count": 16,
     "metadata": {},
     "output_type": "execute_result"
    }
   ],
   "source": [
    "rd.score(x_test,y_test)"
   ]
  },
  {
   "cell_type": "code",
   "execution_count": 17,
   "id": "63c12d83",
   "metadata": {},
   "outputs": [
    {
     "data": {
      "text/plain": [
       "array([21.72])"
      ]
     },
     "execution_count": 17,
     "metadata": {},
     "output_type": "execute_result"
    }
   ],
   "source": [
    "rd.predict([[0.02731,0.0,7.07,0.0,0.469,6.421,78.9,4.9671,2.0,242.0,17.8,396.90,9.14]])"
   ]
  },
  {
   "cell_type": "markdown",
   "id": "43bc3624",
   "metadata": {},
   "source": [
    "random forest has the best prediction till now\n"
   ]
  },
  {
   "cell_type": "markdown",
   "id": "7c05324e",
   "metadata": {},
   "source": [
    "Lets create a elastic regressor model\n"
   ]
  },
  {
   "cell_type": "code",
   "execution_count": 175,
   "id": "94d69d27",
   "metadata": {},
   "outputs": [
    {
     "data": {
      "text/plain": [
       "ElasticNetCV(cv=10)"
      ]
     },
     "execution_count": 175,
     "metadata": {},
     "output_type": "execute_result"
    }
   ],
   "source": [
    "elastic = ElasticNetCV(alphas= None , cv = 10)\n",
    "elastic.fit(x_train,y_train)"
   ]
  },
  {
   "cell_type": "code",
   "execution_count": 176,
   "id": "811382b5",
   "metadata": {},
   "outputs": [
    {
     "data": {
      "text/plain": [
       "1.4333273140925005"
      ]
     },
     "execution_count": 176,
     "metadata": {},
     "output_type": "execute_result"
    }
   ],
   "source": [
    "elastic.alpha_"
   ]
  },
  {
   "cell_type": "code",
   "execution_count": 177,
   "id": "447b894d",
   "metadata": {},
   "outputs": [
    {
     "data": {
      "text/plain": [
       "0.5"
      ]
     },
     "execution_count": 177,
     "metadata": {},
     "output_type": "execute_result"
    }
   ],
   "source": [
    "elastic.l1_ratio_"
   ]
  },
  {
   "cell_type": "code",
   "execution_count": 178,
   "id": "e788d4c3",
   "metadata": {},
   "outputs": [],
   "source": [
    "elsaticlr = ElasticNet(alpha= elastic.alpha_ ,l1_ratio= elastic.l1_ratio_)"
   ]
  },
  {
   "cell_type": "code",
   "execution_count": 179,
   "id": "d34738e3",
   "metadata": {},
   "outputs": [
    {
     "data": {
      "text/plain": [
       "ElasticNet(alpha=1.4333273140925005)"
      ]
     },
     "execution_count": 179,
     "metadata": {},
     "output_type": "execute_result"
    }
   ],
   "source": [
    "elsaticlr.fit(x_train,y_train)"
   ]
  },
  {
   "cell_type": "code",
   "execution_count": 180,
   "id": "470c5f67",
   "metadata": {},
   "outputs": [
    {
     "data": {
      "text/plain": [
       "0.6734685741379984"
      ]
     },
     "execution_count": 180,
     "metadata": {},
     "output_type": "execute_result"
    }
   ],
   "source": [
    "elsaticlr.score(x_test,y_test)"
   ]
  },
  {
   "cell_type": "code",
   "execution_count": 184,
   "id": "979a03c2",
   "metadata": {},
   "outputs": [
    {
     "data": {
      "text/plain": [
       "array([25.89186487])"
      ]
     },
     "execution_count": 184,
     "metadata": {},
     "output_type": "execute_result"
    }
   ],
   "source": [
    "elsaticlr.predict([[0.02731,0.0,7.07,0.0,0.469,6.421,78.9,4.9671,2.0,242.0,17.8,396.90,9.14]])"
   ]
  },
  {
   "cell_type": "code",
   "execution_count": null,
   "id": "61ab9db7",
   "metadata": {},
   "outputs": [],
   "source": []
  },
  {
   "cell_type": "markdown",
   "id": "d1ebb27d",
   "metadata": {},
   "source": [
    "dumping the random forest model using pickle"
   ]
  },
  {
   "cell_type": "code",
   "execution_count": 189,
   "id": "004daf12",
   "metadata": {},
   "outputs": [],
   "source": [
    "pickle.dump(rd,open('admi_pred_mo_rd.pickle' , 'wb'))"
   ]
  },
  {
   "cell_type": "code",
   "execution_count": 18,
   "id": "19bf0858",
   "metadata": {},
   "outputs": [
    {
     "name": "stdout",
     "output_type": "stream",
     "text": [
      " Volume in drive C is OS_Install\n",
      " Volume Serial Number is E88F-2898\n",
      "\n",
      " Directory of C:\\Users\\rohan\n",
      "\n",
      "23-09-2021  01:08    <DIR>          .\n",
      "23-09-2021  01:08    <DIR>          ..\n",
      "25-08-2021  11:03    <DIR>          .anaconda\n",
      "21-09-2021  18:34    <DIR>          .conda\n",
      "25-08-2021  11:01                25 .condarc\n",
      "25-08-2021  11:01    <DIR>          .continuum\n",
      "02-09-2021  23:47    <DIR>          .cufflinks\n",
      "23-09-2021  00:51                60 .gitconfig\n",
      "21-09-2021  22:05    <DIR>          .ipynb_checkpoints\n",
      "28-08-2021  09:04    <DIR>          .ipython\n",
      "21-09-2021  22:07    <DIR>          .jupyter\n",
      "30-08-2021  14:47    <DIR>          .matplotlib\n",
      "23-09-2021  00:55               204 _netrc\n",
      "24-08-2021  20:00    <DIR>          3D Objects\n",
      "21-09-2021  22:58               646 admi_pred_mo.pickle\n",
      "21-09-2021  23:04         3,512,009 admi_pred_mo_rd.pickle\n",
      "28-08-2021  09:56           581,076 All types Of Feature Transformation.ipynb\n",
      "20-09-2021  20:28            95,047 boston.ipynb\n",
      "24-08-2021  20:00    <DIR>          Contacts\n",
      "03-09-2021  21:23           102,542 Data Visualisation with mtplot.ipynb\n",
      "24-08-2021  20:03    <DIR>          Documents\n",
      "23-09-2021  01:03    <DIR>          Downloads\n",
      "07-09-2021  17:44            51,782 eda.ipynb\n",
      "24-08-2021  20:00    <DIR>          Favorites\n",
      "23-09-2021  01:08            28,465 linear regression prediction boston house pricing.ipynb\n",
      "24-08-2021  20:00    <DIR>          Links\n",
      "19-09-2021  08:18               493 lr.sav\n",
      "24-08-2021  20:00    <DIR>          Music\n",
      "03-09-2021  20:55             3,661 numpy.ipynb\n",
      "22-09-2021  23:48    <DIR>          OneDrive\n",
      "02-09-2021  01:04            20,840 pandas assignment.ipynb\n",
      "30-08-2021  14:57                53 rohan.csv\n",
      "24-08-2021  20:00    <DIR>          Saved Games\n",
      "04-09-2021  09:52    <DIR>          seaborn-data\n",
      "24-08-2021  20:02    <DIR>          Searches\n",
      "08-09-2021  12:25             4,472 stats.ipynb\n",
      "23-09-2021  00:18            32,685 Untitled.ipynb\n",
      "22-09-2021  23:50            10,843 Untitled1.ipynb\n",
      "04-09-2021  10:10    <DIR>          Videos\n",
      "              17 File(s)      4,444,903 bytes\n",
      "              22 Dir(s)  113,123,659,776 bytes free\n"
     ]
    }
   ],
   "source": [
    "ls"
   ]
  },
  {
   "cell_type": "code",
   "execution_count": null,
   "id": "b6493d02",
   "metadata": {},
   "outputs": [],
   "source": []
  }
 ],
 "metadata": {
  "kernelspec": {
   "display_name": "Python 3",
   "language": "python",
   "name": "python3"
  },
  "language_info": {
   "codemirror_mode": {
    "name": "ipython",
    "version": 3
   },
   "file_extension": ".py",
   "mimetype": "text/x-python",
   "name": "python",
   "nbconvert_exporter": "python",
   "pygments_lexer": "ipython3",
   "version": "3.8.8"
  }
 },
 "nbformat": 4,
 "nbformat_minor": 5
}
